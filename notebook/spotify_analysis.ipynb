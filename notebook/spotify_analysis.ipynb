{
 "cells": [
  {
   "cell_type": "markdown",
   "id": "abadb41b",
   "metadata": {},
   "source": []
  },
  {
   "cell_type": "markdown",
   "id": "5a2409b6",
   "metadata": {},
   "source": [
    "## Spotify Music Data Analysis"
   ]
  },
  {
   "cell_type": "markdown",
   "id": "beb31b3d",
   "metadata": {},
   "source": [
    "In this project, we will anaslyse data from Spotify.\n",
    "\n",
    "We will aim to answer the following questions:\n",
    "1. What makes a song popular?\n",
    "2. How have musical tastes evolved over the decades?\n",
    "3. What is the optimal song length and tempo for maximum popularity?"
   ]
  },
  {
   "cell_type": "code",
   "execution_count": null,
   "id": "964991bf",
   "metadata": {},
   "outputs": [],
   "source": [
    "pip install pandas numpy matplotlib seaborn jupyter "
   ]
  },
  {
   "cell_type": "code",
   "execution_count": null,
   "id": "cca3a71c",
   "metadata": {},
   "outputs": [],
   "source": [
    "import pandas as pd\n",
    "import numpy as np\n",
    "import matplotlib.pyplot as plt\n",
    "import seaborn as sns\n",
    "\n",
    "# Load your data\n",
    "df = pd.read_csv('C:\\\\Users\\Lana0\\Documents\\spotify-music-analysis\\data\\dataset.csv')\n",
    "\n",
    "print(df.shape)\n",
    "print(df.head())\n",
    "print(df.info())"
   ]
  },
  {
   "cell_type": "code",
   "execution_count": null,
   "id": "31b0a24a",
   "metadata": {},
   "outputs": [],
   "source": []
  }
 ],
 "metadata": {
  "kernelspec": {
   "display_name": "base",
   "language": "python",
   "name": "python3"
  },
  "language_info": {
   "codemirror_mode": {
    "name": "ipython",
    "version": 3
   },
   "file_extension": ".py",
   "mimetype": "text/x-python",
   "name": "python",
   "nbconvert_exporter": "python",
   "pygments_lexer": "ipython3",
   "version": "3.12.7"
  }
 },
 "nbformat": 4,
 "nbformat_minor": 5
}
